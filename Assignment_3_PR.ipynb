{
  "nbformat": 4,
  "nbformat_minor": 0,
  "metadata": {
    "colab": {
      "name": "Assignment#3_PR.ipynb",
      "version": "0.3.2",
      "views": {},
      "default_view": {},
      "provenance": [],
      "private_outputs": true,
      "collapsed_sections": []
    },
    "kernelspec": {
      "name": "python3",
      "display_name": "Python 3"
    },
    "accelerator": "GPU"
  },
  "cells": [
    {
      "metadata": {
        "id": "LAJ4mKwHILi2",
        "colab_type": "code",
        "colab": {
          "autoexec": {
            "startup": false,
            "wait_interval": 0
          }
        }
      },
      "cell_type": "code",
      "source": [
        "'''\n",
        "# Testing for GPU availability\n",
        "import tensorflow as tf\n",
        "device_name = tf.test.gpu_device_name()\n",
        "if device_name != '/device:GPU:0':\n",
        "  raise SystemError('GPU device not found')\n",
        "print('Found GPU at: {}'.format(device_name))'''"
      ],
      "execution_count": 0,
      "outputs": []
    },
    {
      "metadata": {
        "id": "Ot7AEmywdT4g",
        "colab_type": "text"
      },
      "cell_type": "markdown",
      "source": [
        "### **To avoid tedious debates with the TA. Dina, we have to print all outputs of \"each\" step regardless of the importance of the step.** @Zyad\n",
        "\n",
        "\n",
        "---\n",
        "\n",
        "\n",
        "\n",
        "\n",
        "\n",
        "\n",
        "\n",
        "\n",
        "\n"
      ]
    },
    {
      "metadata": {
        "id": "s_B07ZTYF-WI",
        "colab_type": "code",
        "colab": {
          "autoexec": {
            "startup": false,
            "wait_interval": 0
          }
        }
      },
      "cell_type": "code",
      "source": [
        ".'''\n",
        "# Installing database file/s\n",
        "!wget http://104.197.136.14/ds/2016.04/2016.04C.multisnr.pkl.bz2\n",
        "!bzip2 -d 2016.04C.multisnr.pkl.bz2\n",
        "!ls"
      ],
      "execution_count": 0,
      "outputs": []
    },
    {
      "metadata": {
        "id": "PplOSDykBPHt",
        "colab_type": "code",
        "colab": {
          "autoexec": {
            "startup": false,
            "wait_interval": 0
          }
        }
      },
      "cell_type": "code",
      "source": [
        "'''\n",
        "# The classes Sequential and Dense are used to specify the nodes, connections, specifications of the neural network.\n",
        "import keras\n",
        "from keras.models import Sequential\n",
        "from keras.layers import Dense"
      ],
      "execution_count": 0,
      "outputs": []
    },
    {
      "metadata": {
        "id": "YrPJO_9avMIQ",
        "colab_type": "code",
        "colab": {
          "autoexec": {
            "startup": false,
            "wait_interval": 0
          }
        }
      },
      "cell_type": "code",
      "source": [
        "'''\n",
        "import pickle\n",
        "import gzip\n",
        "import numpy\n",
        "\n",
        "with open('2016.04C.multisnr.pkl', 'rb') as f:\n",
        "    u = pickle._Unpickler(f)\n",
        "    u.encoding = 'latin1'\n",
        "    p = u.load()"
      ],
      "execution_count": 0,
      "outputs": []
    },
    {
      "metadata": {
        "id": "xt55KkVCXkt8",
        "colab_type": "code",
        "colab": {
          "autoexec": {
            "startup": false,
            "wait_interval": 0
          }
        }
      },
      "cell_type": "code",
      "source": [
        "'''\n",
        "#Kareem\n",
        "#alternative method (like paper code)\n",
        "import numpy as np\n",
        "snrs,mods = map(lambda j: sorted(list(set(map(lambda x: x[j], p.keys())))), [1,0])\n",
        "X = []  \n",
        "lbl = []\n",
        "for mod in mods:\n",
        "    for snr in snrs:\n",
        "        X.append(p[(mod,snr)])\n",
        "        for i in range(p[(mod,snr)].shape[0]):  lbl.append((mod,snr))\n",
        "X = np.vstack(X)\n",
        "print(X.shape)\n",
        "print(\"one sample :\")\n",
        "print(X[1])"
      ],
      "execution_count": 0,
      "outputs": []
    },
    {
      "metadata": {
        "id": "nvD6VLdpX8_Q",
        "colab_type": "code",
        "colab": {
          "autoexec": {
            "startup": false,
            "wait_interval": 0
          }
        }
      },
      "cell_type": "code",
      "source": [
        "'''\n",
        "#Kareem\n",
        "#all keys\n",
        "print(\"keys:\")\n",
        "print(p.keys())\n",
        "#print(p[\"QPSK\",2].shape)\n",
        "print(\"shape of all data:\")\n",
        "print(X.shape)\n",
        "#list of all shapes:\n",
        "shapes=[]\n",
        "snrs=[]\n",
        "mod_types=[]\n",
        "for x in p.keys():\n",
        "  shapes.append(p[x].shape)\n",
        "  snrs.append(x[1])\n",
        "  mod_types.append(x[0])\n",
        "print(\"same distribution of number of samples as shown:\")\n",
        "print(sorted(shapes)[0:20])\n",
        "print(sorted(shapes)[20:40])\n",
        "print(sorted(shapes)[40:60])\n",
        "\n",
        "print(\"same modulation type but different SNRs:\")\n",
        "print(p[\"QPSK\",2].shape)\n",
        "print(p[\"QPSK\",6].shape)\n",
        "print(p[\"QPSK\",8].shape)\n",
        "print(p[\"QPSK\",-4].shape)\n",
        "print(p[\"QPSK\",18].shape)\n",
        "print(p[\"QPSK\",-6].shape)\n",
        "print(p[\"QPSK\",12].shape)\n",
        "\n",
        "\n",
        "print(\"Again : same modulation type but different SNRs:\")\n",
        "print(p[\"AM-DSB\",2].shape)\n",
        "print(p[\"AM-DSB\",6].shape)\n",
        "print(p[\"AM-DSB\",8].shape)\n",
        "print(p[\"AM-DSB\",-4].shape)\n",
        "print(p[\"AM-DSB\",18].shape)\n",
        "print(p[\"AM-DSB\",-6].shape)\n",
        "print(p[\"AM-DSB\",12].shape)\n",
        "\n",
        "print(\"same SNR for Different modulation types:\")\n",
        "print(p[\"QPSK\",2].shape)\n",
        "print(p[\"PAM4\",2].shape)\n",
        "print(p[\"AM-DSB\",2].shape)\n",
        "print(p[\"QAM64\",2].shape)\n",
        "print(p[\"AM-SSB\",2].shape)\n",
        "print(p[\"QAM16\",2].shape)\n",
        "print(p[\"8PSK\",2].shape)\n",
        "print(\"values in keys:\")\n",
        "print(set(snrs))\n",
        "print(len(set(snrs)))\n",
        "print(set(mod_types))\n",
        "print(len(set(mod_types)))\n"
      ],
      "execution_count": 0,
      "outputs": []
    },
    {
      "metadata": {
        "id": "QkOSFR6MbUDY",
        "colab_type": "text"
      },
      "cell_type": "markdown",
      "source": [
        "# Conclusion of dataset structure:\n",
        "\n",
        "Dataset has 11 modulation types and 20 SNR values forming 220 different keys\n",
        "each key has different number of samples\n",
        "\n",
        "each Modulation type (ex : QPSK,8PSK ...etc) has same number of samples for different SNRs\n",
        "\n"
      ]
    },
    {
      "metadata": {
        "id": "zkn_UmcKxYFB",
        "colab_type": "code",
        "colab": {
          "autoexec": {
            "startup": false,
            "wait_interval": 0
          }
        }
      },
      "cell_type": "code",
      "source": [
        "'''\n",
        "sum=0\n",
        "for x in p.values():\n",
        "  sum+=x.shape[0]\n",
        "print(sum)\n",
        "# for key,value in p.items():\n",
        "#   if key[0]=='PAM4':\n",
        "#     sum+=value.shape[0]\n",
        "  \n",
        "# print(sum)"
      ],
      "execution_count": 0,
      "outputs": []
    },
    {
      "metadata": {
        "id": "oXJ87eetweeR",
        "colab_type": "code",
        "colab": {
          "autoexec": {
            "startup": false,
            "wait_interval": 0
          }
        }
      },
      "cell_type": "code",
      "source": [
        "'''\n",
        "print(type(p))\n",
        "data = {}\n",
        "allm = []\n",
        "for k in p.keys():\n",
        "  data[k[0]] = {}\n",
        "  allm.append(k[0])\n",
        "mod = sorted(set(allm))\n",
        "print(mod)\n",
        "print(data)\n",
        "print(len(allm))\n"
      ],
      "execution_count": 0,
      "outputs": []
    },
    {
      "metadata": {
        "id": "b-B9LvXk3kDb",
        "colab_type": "code",
        "colab": {
          "autoexec": {
            "startup": false,
            "wait_interval": 0
          }
        }
      },
      "cell_type": "code",
      "source": [
        "'''\n",
        "import numpy as np\n",
        "from numpy import zeros, newaxis\n",
        "\n",
        "for m in mod:\n",
        "  for k in p.keys():\n",
        "    if k[0] == m :\n",
        "      for sig in range(len(p[k])):\n",
        "        a = np.array(p[k][sig][0])[:, newaxis]\n",
        "        b = np.array(p[k][sig][1])[:, newaxis]\n",
        "        if k[1] not in data[k[0]]:\n",
        "          data[k[0]][k[1]] = []\n",
        "        data[k[0]][k[1]].append([a,b])"
      ],
      "execution_count": 0,
      "outputs": []
    },
    {
      "metadata": {
        "id": "LE032gi2gGao",
        "colab_type": "text"
      },
      "cell_type": "markdown",
      "source": [
        "2 dimentions vectors because complex values a vector for real value and imaginary value"
      ]
    },
    {
      "metadata": {
        "id": "AkgLLbnZ8pPw",
        "colab_type": "code",
        "colab": {
          "autoexec": {
            "startup": false,
            "wait_interval": 0
          }
        }
      },
      "cell_type": "code",
      "source": [
        "'''\n",
        "dat = []\n",
        "#Training data and labels \n",
        "X = []\n",
        "Y = []\n",
        "#dictionary contating samples for each snr, key is snr and value is list of samples having this snr\n",
        "samples_per_snr = {}\n",
        "#dictonary accessed by snr and gives labels of mod types ,snr is index\n",
        "labels_ofSamples_per_snr = {}\n",
        "#dictionary saving all one-hot encodes of different modulation\n",
        "mval = {}\n",
        "count = 0\n",
        "\n",
        "#changed variables z one_hot_label, x -> samples_per_snr , y->labels_ofSamples_per_snr  both used for testing\n",
        "\n",
        "#loop all modulation techniques ex QPSK,BSK...etc\n",
        "for m in mod:\n",
        "  one_hot_label = np.zeros((len(mod),))\n",
        "  one_hot_label[count] = 1     \n",
        "  mval[m] = one_hot_label\n",
        "  #repeat for each snr for modulation technique m\n",
        "  for snr in data[m]:\n",
        "    #print(m,snr)\n",
        "    dat = data[m][snr]\n",
        "    #train with 2/3 of data from start\n",
        "    #1/3 for each channel ??\n",
        "    for d in dat[:int(len(dat)//1.5)]:\n",
        "      X.append(d)\n",
        "      Y.append(one_hot_label)\n",
        "      #loop the remaining 1/3 of data to test with them\n",
        "      for d in dat[int(len(dat)//1.5):]:\n",
        "        #only performed once to set the 20 snrs as keys in dictionary\n",
        "        #each value for key is list of samples having this snrs\n",
        "        if not snr in samples_per_snr:\n",
        "          samples_per_snr[snr] = []\n",
        "          labels_ofSamples_per_snr[snr] = []\n",
        "        #the real loop body :\n",
        "        samples_per_snr[snr].append(d)\n",
        "        labels_ofSamples_per_snr[snr].append(one_hot_label)\n",
        "  #increment loop counter\n",
        "  count += 1 \n"
      ],
      "execution_count": 0,
      "outputs": []
    },
    {
      "metadata": {
        "id": "nP9-4etfBBCP",
        "colab_type": "code",
        "colab": {
          "autoexec": {
            "startup": false,
            "wait_interval": 0
          }
        }
      },
      "cell_type": "code",
      "source": [
        "'''\n",
        "print(len(X))\n",
        "print(len(Y))"
      ],
      "execution_count": 0,
      "outputs": []
    },
    {
      "metadata": {
        "id": "jZHqyJehCZSc",
        "colab_type": "code",
        "colab": {
          "autoexec": {
            "startup": false,
            "wait_interval": 0
          }
        }
      },
      "cell_type": "code",
      "source": [
        "# Making the Confusion Matrix\n",
        "# from sklearn.metrics import confusion_matrix\n",
        "# cm = confusion_matrix(..., ...) "
      ],
      "execution_count": 0,
      "outputs": []
    },
    {
      "metadata": {
        "id": "xKrtupPrB-eh",
        "colab_type": "code",
        "colab": {
          "autoexec": {
            "startup": false,
            "wait_interval": 0
          }
        },
        "cellView": "code"
      },
      "cell_type": "code",
      "source": [
        "'''\n",
        "Sample Test\n",
        "\n",
        "\n",
        "input_dim_ = 30 #@param {type:\"integer\"}\n",
        "\n",
        "# Initialising the ANN\n",
        "classifier = Sequential()\n",
        "\n",
        "# Initialising input layer\n",
        "classifier.add(Dense(units = 16, kernel_initializer = 'uniform', activation = 'relu', input_dim = input_dim_))\n",
        "\n",
        "# Adding the second hidden layer\n",
        "classifier.add(Dense(units = 16, kernel_initializer = 'uniform', activation = 'relu'))\n",
        "\n",
        "# Adding the output layer\n",
        "classifier.add(Dense(units = 1, kernel_initializer = 'uniform', activation = 'sigmoid'))\n",
        "\n",
        "# Compiling the ANN\n",
        "classifier.compile(optimizer = 'adam', loss = 'binary_crossentropy', metrics = ['accuracy'])"
      ],
      "execution_count": 0,
      "outputs": []
    },
    {
      "metadata": {
        "id": "O14V_gyOgFfv",
        "colab_type": "text"
      },
      "cell_type": "markdown",
      "source": [
        "**Mahinour**"
      ]
    },
    {
      "metadata": {
        "id": "_p7RQ92TgKQ7",
        "colab_type": "code",
        "colab": {
          "autoexec": {
            "startup": false,
            "wait_interval": 0
          }
        }
      },
      "cell_type": "code",
      "source": [
        "!pip install keras \n",
        "!pip install tflearn\n",
        "!pip install tensor"
      ],
      "execution_count": 0,
      "outputs": []
    },
    {
      "metadata": {
        "id": "LwOYxVkigU_4",
        "colab_type": "code",
        "colab": {
          "autoexec": {
            "startup": false,
            "wait_interval": 0
          }
        }
      },
      "cell_type": "code",
      "source": [
        "%matplotlib inline\n",
        "import os,random\n",
        "#os.environ[\"KERAS_BACKEND\"] = \"theano\"\n",
        "os.environ[\"KERAS_BACKEND\"] = \"tensorflow\"\n",
        "#os.environ[\"THEANO_FLAGS\"]  = \"device=cuda,floatX=float32\"\n",
        "import numpy as np\n",
        "from keras.utils import np_utils\n",
        "import keras.models as models\n",
        "from keras.layers.core import Reshape,Dense,Dropout,Activation,Flatten\n",
        "from keras.layers.noise import GaussianNoise\n",
        "from keras.layers.convolutional import Conv2D, MaxPooling2D, ZeroPadding2D\n",
        "from keras.regularizers import *\n",
        "from keras.optimizers import adam\n",
        "import matplotlib.pyplot as plt\n",
        "import seaborn as sns\n",
        "import pickle, random, sys, keras\n",
        "# Installing database file/s\n",
        "!wget http://104.197.136.14/ds/2016.04/2016.04C.multisnr.pkl.bz2\n",
        "!bzip2 -d 2016.04C.multisnr.pkl.bz2\n",
        "!ls\n",
        "# The classes Sequential and Dense are used to specify the nodes, connections, specifications of the neural network.\n",
        "\n",
        "with open('2016.04C.multisnr.pkl', 'rb') as f:\n",
        "    u = pickle._Unpickler(f)\n",
        "    u.encoding = 'latin1'\n",
        "    Xd = u.load()\n",
        "    \n"
      ],
      "execution_count": 0,
      "outputs": []
    },
    {
      "metadata": {
        "id": "Ja9BZlu9gVws",
        "colab_type": "code",
        "colab": {
          "autoexec": {
            "startup": false,
            "wait_interval": 0
          }
        }
      },
      "cell_type": "code",
      "source": [
        "snrs,mods = map(lambda j: sorted(list(set(map(lambda x: x[j], Xd.keys())))), [1,0])\n",
        "X = []  \n",
        "lbl = []\n",
        "for mod in mods:\n",
        "    for snr in snrs:\n",
        "        X.append(Xd[(mod,snr)])\n",
        "        for i in range(Xd[(mod,snr)].shape[0]):  lbl.append((mod,snr))\n",
        "X = np.vstack(X)"
      ],
      "execution_count": 0,
      "outputs": []
    },
    {
      "metadata": {
        "id": "kT96O6cVgaNS",
        "colab_type": "code",
        "colab": {
          "autoexec": {
            "startup": false,
            "wait_interval": 0
          }
        }
      },
      "cell_type": "code",
      "source": [
        "# Partition the data\n",
        "#  into training and test sets of the form we can train/test on \n",
        "#  while keeping SNR and Mod labels handy for each\n",
        "np.random.seed(2016)\n",
        "n_examples = X.shape[0]\n",
        "n_train = n_examples * 0.5\n",
        "train_idx = np.random.choice(range(0,n_examples), size= int(n_train), replace=False)\n",
        "test_idx = list(set(range(0,n_examples))-set(train_idx))\n",
        "X_train = X[train_idx]\n",
        "X_test =  X[test_idx]"
      ],
      "execution_count": 0,
      "outputs": []
    },
    {
      "metadata": {
        "id": "hHfNwrX1ge4-",
        "colab_type": "code",
        "colab": {
          "autoexec": {
            "startup": false,
            "wait_interval": 0
          }
        }
      },
      "cell_type": "code",
      "source": [
        "def to_onehot(yy):\n",
        "    yy1 = np.zeros([len(yy), max(yy)+1])\n",
        "    yy1[np.arange(len(yy)),yy] = 1\n",
        "    return yy1 \n",
        "Y_train = to_onehot(list(map(lambda x:0 mods.index(lbl[x][0]), train_idx)))\n",
        "Y_test = to_onehot(list(map(lambda x: mods.index(lbl[x][0]), test_idx)))"
      ],
      "execution_count": 0,
      "outputs": []
    },
    {
      "metadata": {
        "id": "q15B47LIgg_o",
        "colab_type": "code",
        "colab": {
          "autoexec": {
            "startup": false,
            "wait_interval": 0
          }
        }
      },
      "cell_type": "code",
      "source": [
        "in_shp = list(X_train.shape[1:])\n",
        "print (X_train.shape, in_shp)\n",
        "classes = mods"
      ],
      "execution_count": 0,
      "outputs": []
    },
    {
      "metadata": {
        "id": "jJD13mnmghgf",
        "colab_type": "code",
        "colab": {
          "autoexec": {
            "startup": false,
            "wait_interval": 0
          }
        }
      },
      "cell_type": "code",
      "source": [
        "import keras.models as models\n",
        "# Build VT-CNN2 Neural Net model using Keras primitives -- \n",
        "#  - Reshape [N,2,128] to [N,1,2,128] on input\n",
        "#  - Pass through 2 2DConv/ReLu layers\n",
        "#  - Pass through 2 Dense layers (ReLu and Softmax)\n",
        "#  - Perform categorical cross entropy optimization\n",
        " \n",
        "dr = 0.5 # dropout rate (%)\n",
        "model = keras.models.Sequential()\n",
        "model.add(Reshape([1]+in_shp, input_shape=in_shp))\n",
        "model.add(ZeroPadding2D((0, 2)))\n",
        "model.add(Conv2D(256, (1, 3),padding='valid', activation=\"relu\", name=\"conv1\",kernel_initializer='glorot_uniform',data_format=\"channels_first\"))\n",
        "model.add(Dropout(dr))\n",
        "model.add(ZeroPadding2D((0, 2)))\n",
        "model.add(Conv2D(80,(2, 3), padding='valid', activation=\"relu\", name=\"conv2\", kernel_initializer='glorot_uniform',data_format=\"channels_first\"))\n",
        "model.add(Dropout(dr))\n",
        "model.add(Flatten())\n",
        "model.add(Dense(256, activation='relu', kernel_initializer='he_normal', name=\"dense1\"))\n",
        "model.add(Dropout(dr))\n",
        "model.add(Dense( len(classes), kernel_initializer='he_normal', name=\"dense2\" ))\n",
        "model.add(Activation('softmax'))\n",
        "model.add(Reshape([len(classes)]))\n",
        "model.compile(loss='categorical_crossentropy', optimizer='adam', metrics=['accuracy'])\n",
        "model.summary()"
      ],
      "execution_count": 0,
      "outputs": []
    },
    {
      "metadata": {
        "id": "hobcHw7TgmcM",
        "colab_type": "code",
        "colab": {
          "autoexec": {
            "startup": false,
            "wait_interval": 0
          }
        }
      },
      "cell_type": "code",
      "source": [
        "# Set up some params \n",
        "nb_epoch = 25    # number of epochs to train on\n",
        "batch_size = 500  # training batch size"
      ],
      "execution_count": 0,
      "outputs": []
    },
    {
      "metadata": {
        "id": "mQXjSaLshF2E",
        "colab_type": "code",
        "colab": {
          "autoexec": {
            "startup": false,
            "wait_interval": 0
          }
        }
      },
      "cell_type": "code",
      "source": [
        "# perform training ...\n",
        "#   - call the main training loop in keras for our network+dataset\n",
        "filepath = 'convmodrecnets_CNN2_0.5.wts.h5'\n",
        "model.fit(X_train,\n",
        "    Y_train,\n",
        "    batch_size=batch_size,\n",
        "    epochs=nb_epoch,\n",
        "    verbose=2,\n",
        "     validation_split=0.3,\n",
        "    callbacks = [\n",
        "        keras.callbacks.ModelCheckpoint(filepath, monitor='val_loss', verbose=0, save_best_only=True, mode='auto'),\n",
        "        keras.callbacks.EarlyStopping(monitor='val_loss', patience=5, verbose=0, mode='auto')\n",
        "    ])\n",
        "# we re-load the best weights once training is finished\n",
        "model.load_weights(filepath)"
      ],
      "execution_count": 0,
      "outputs": []
    },
    {
      "metadata": {
        "id": "mWCqvPjFiIEf",
        "colab_type": "code",
        "colab": {
          "autoexec": {
            "startup": false,
            "wait_interval": 0
          }
        }
      },
      "cell_type": "code",
      "source": [
        "scscore = model.evaluate(X_test, Y_test, batch_size=batch_size)\n",
        "print(model.metrics_names)\n",
        "print (score)"
      ],
      "execution_count": 0,
      "outputs": []
    }
  ]
}